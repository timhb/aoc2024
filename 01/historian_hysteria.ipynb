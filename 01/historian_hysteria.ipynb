{
 "cells": [
  {
   "cell_type": "code",
   "id": "initial_id",
   "metadata": {
    "collapsed": true,
    "ExecuteTime": {
     "end_time": "2024-12-03T08:18:12.430875Z",
     "start_time": "2024-12-03T08:18:12.424835Z"
    }
   },
   "source": [
    "data = open(\"list.txt\", \"r\")\n",
    "\n",
    "left = []\n",
    "right = []\n",
    "for line in data:\n",
    "    row = line.split()\n",
    "    left.append(int(row[0]))\n",
    "    right.append(int(row[1]))\n",
    "\n",
    "left.sort()\n",
    "right.sort()\n",
    "\n",
    "sum = 0\n",
    "for i in range(len(left)):\n",
    "    sum += abs(left[i]-right[i])\n",
    "\n",
    "sum"
   ],
   "outputs": [
    {
     "data": {
      "text/plain": [
       "1765812"
      ]
     },
     "execution_count": 13,
     "metadata": {},
     "output_type": "execute_result"
    }
   ],
   "execution_count": 13
  },
  {
   "metadata": {
    "ExecuteTime": {
     "end_time": "2024-12-03T08:10:46.526315Z",
     "start_time": "2024-12-03T08:10:46.510193Z"
    }
   },
   "cell_type": "code",
   "source": [
    "similarity_score = 0\n",
    "for i in range(len(left)):\n",
    "    similarity_score += left[i] * right.count(left[i])\n",
    "similarity_score"
   ],
   "id": "a5a072343ec36af2",
   "outputs": [
    {
     "data": {
      "text/plain": [
       "20520794"
      ]
     },
     "execution_count": 11,
     "metadata": {},
     "output_type": "execute_result"
    }
   ],
   "execution_count": 11
  },
  {
   "metadata": {},
   "cell_type": "code",
   "outputs": [],
   "execution_count": null,
   "source": "",
   "id": "fbaeaed9d89b60f6"
  }
 ],
 "metadata": {
  "kernelspec": {
   "display_name": "Python 3",
   "language": "python",
   "name": "python3"
  },
  "language_info": {
   "codemirror_mode": {
    "name": "ipython",
    "version": 2
   },
   "file_extension": ".py",
   "mimetype": "text/x-python",
   "name": "python",
   "nbconvert_exporter": "python",
   "pygments_lexer": "ipython2",
   "version": "2.7.6"
  }
 },
 "nbformat": 4,
 "nbformat_minor": 5
}
