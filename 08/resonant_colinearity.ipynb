{
 "cells": [
  {
   "cell_type": "code",
   "id": "initial_id",
   "metadata": {
    "collapsed": true,
    "ExecuteTime": {
     "end_time": "2024-12-08T11:18:27.163467Z",
     "start_time": "2024-12-08T11:18:27.153483Z"
    }
   },
   "source": [
    "data = open(\"antennas.txt\", \"r\")\n",
    "\n",
    "map = []\n",
    "for line in data:\n",
    "    map.append(line.removesuffix(\"\\n\"))\n",
    "\n",
    "def return_similiar_antennas(antenna_pos, map):\n",
    "    antenna = map[antenna_pos[1]][antenna_pos[0]]\n",
    "    positions = set()\n",
    "    for y, line in enumerate(map):\n",
    "        for x, cell in enumerate(line):\n",
    "            if cell == antenna:\n",
    "                positions.add((x, y))\n",
    "    return positions\n",
    "\n",
    "def in_range(position, map):\n",
    "    if 0 <= position[0] < len(map) and 0 <= position[1] < len(map[0]):\n",
    "        return True\n",
    "    return False\n",
    "\n",
    "def calc_difference(pos1, pos2):\n",
    "    return (pos1[0] - pos2[0], pos1[1] - pos2[1])\n",
    "\n",
    "def main():\n",
    "    antennas = {}\n",
    "    for y, line in enumerate(map):\n",
    "        for x, cell in enumerate(line):\n",
    "            if cell != \".\" and cell not in antennas:\n",
    "                antennas[cell] = return_similiar_antennas((x,y), map)\n",
    "    antinodes = set()\n",
    "    for antenna in antennas:\n",
    "        for pos1 in antennas[antenna]:\n",
    "            for pos2 in antennas[antenna]:\n",
    "                if pos1 == pos2:\n",
    "                    continue\n",
    "                diff = calc_difference(pos1, pos2)\n",
    "\n",
    "                for n in range(len(map)):\n",
    "                    antinode = (pos1[0] + n*diff[0], pos1[1] + n*diff[1])\n",
    "                    if not in_range(antinode, map):\n",
    "                        break\n",
    "                    antinodes.add(antinode)\n",
    "                # antinode = (pos1[0] + diff[0], pos1[1] + diff[1])\n",
    "                # if in_range(antinode, map):\n",
    "                #     antinodes.add(antinode)\n",
    "    print(len(antinodes))\n",
    "\n",
    "if __name__ == \"__main__\":\n",
    "    main()"
   ],
   "outputs": [
    {
     "name": "stdout",
     "output_type": "stream",
     "text": [
      "944\n"
     ]
    }
   ],
   "execution_count": 19
  },
  {
   "metadata": {},
   "cell_type": "code",
   "outputs": [],
   "execution_count": null,
   "source": "",
   "id": "10e8fd89dff46d2"
  }
 ],
 "metadata": {
  "kernelspec": {
   "display_name": "Python 3",
   "language": "python",
   "name": "python3"
  },
  "language_info": {
   "codemirror_mode": {
    "name": "ipython",
    "version": 2
   },
   "file_extension": ".py",
   "mimetype": "text/x-python",
   "name": "python",
   "nbconvert_exporter": "python",
   "pygments_lexer": "ipython2",
   "version": "2.7.6"
  }
 },
 "nbformat": 4,
 "nbformat_minor": 5
}
