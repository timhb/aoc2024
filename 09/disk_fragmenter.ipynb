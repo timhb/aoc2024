{
 "cells": [
  {
   "cell_type": "code",
   "id": "initial_id",
   "metadata": {
    "collapsed": true,
    "ExecuteTime": {
     "end_time": "2024-12-09T12:25:48.050607Z",
     "start_time": "2024-12-09T12:25:24.691980Z"
    }
   },
   "source": [
    "data = []\n",
    "with open(\"disk_map.txt\", \"r\") as file:\n",
    "    while True:\n",
    "        number = file.read(1)\n",
    "        if not number:\n",
    "            break\n",
    "        data.append(int(number))\n",
    "\n",
    "# Convert data to visual representation\n",
    "arr = []\n",
    "for idx, letter in enumerate(data):\n",
    "    if idx % 2:\n",
    "        while letter > 0:\n",
    "            arr.append(\".\")\n",
    "            letter -= 1\n",
    "    else:\n",
    "        while letter > 0:\n",
    "            arr.append(str(idx//2)) # str(idx/2) would result in x.0 (float) but we want int x\n",
    "            letter -= 1\n",
    "\n",
    "# bottom, top = 0, len(arr)-1\n",
    "# while bottom < top:\n",
    "#     if arr[bottom] == \".\" and arr[top] != \".\":\n",
    "#         arr[bottom], arr[top] = arr[top], arr[bottom]\n",
    "#     if arr[bottom] != \".\":\n",
    "#         bottom += 1\n",
    "#     if arr[top] == \".\":\n",
    "#         top -= 1\n",
    "\n",
    "i = len(arr)-1\n",
    "while i > 0:\n",
    "    # Skip until valid block\n",
    "    while not arr[i].isdigit():\n",
    "        i -= 1\n",
    "    # Measure length of valid block\n",
    "    top_begin, top_value = i, arr[i]\n",
    "    while arr[i] == top_value:\n",
    "        i -= 1\n",
    "    top_length = top_begin - i\n",
    "\n",
    "    # Find empty block with fitting length\n",
    "    j = 0\n",
    "    while j <= i:\n",
    "        # Skip until valid empty block\n",
    "        while arr[j].isdigit() and j <= i:\n",
    "            j += 1\n",
    "        # Measure empty block\n",
    "        bottom_begin = j\n",
    "        while not arr[j].isdigit() and j <= i:\n",
    "            j += 1\n",
    "        bottom_length = j - bottom_begin\n",
    "        # Compare both lengths\n",
    "        if bottom_length >= top_length:\n",
    "            # Swap values\n",
    "            for idx in range(top_length):\n",
    "                arr[bottom_begin + idx], arr[top_begin-idx] = arr[top_begin-idx], arr[bottom_begin + idx]\n",
    "            break\n",
    "# Calculate sum\n",
    "sum = 0\n",
    "for idx, number in enumerate(arr):\n",
    "    # Skip if empty\n",
    "    if not number.isdigit():\n",
    "        # break # Part 1\n",
    "        continue\n",
    "    sum += idx*int(number)\n",
    "sum"
   ],
   "outputs": [
    {
     "data": {
      "text/plain": [
       "6349492251099"
      ]
     },
     "execution_count": 40,
     "metadata": {},
     "output_type": "execute_result"
    }
   ],
   "execution_count": 40
  },
  {
   "metadata": {},
   "cell_type": "code",
   "outputs": [],
   "execution_count": null,
   "source": "",
   "id": "fd0ca936c2169a82"
  }
 ],
 "metadata": {
  "kernelspec": {
   "display_name": "Python 3",
   "language": "python",
   "name": "python3"
  },
  "language_info": {
   "codemirror_mode": {
    "name": "ipython",
    "version": 2
   },
   "file_extension": ".py",
   "mimetype": "text/x-python",
   "name": "python",
   "nbconvert_exporter": "python",
   "pygments_lexer": "ipython2",
   "version": "2.7.6"
  }
 },
 "nbformat": 4,
 "nbformat_minor": 5
}
