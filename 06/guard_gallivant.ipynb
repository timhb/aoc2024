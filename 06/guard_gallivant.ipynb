{
 "cells": [
  {
   "cell_type": "code",
   "id": "initial_id",
   "metadata": {
    "collapsed": true,
    "ExecuteTime": {
     "end_time": "2024-12-11T08:57:28.712960Z",
     "start_time": "2024-12-11T08:57:23.470392Z"
    }
   },
   "source": [
    "def check_for_infinite_loop(visit, map):\n",
    "    map[visit[1]][visit[0]] = \"#\"\n",
    "    x,y,dx,dy = 42, 45, 0, -1\n",
    "    local_visited = set()\n",
    "    while 0 <= x + dx < len(map[0]) and 0 <= y + dy < len(map):\n",
    "        if map[y + dy][x + dx] == \"#\":\n",
    "            dx, dy = -dy, dx\n",
    "        else:\n",
    "            if ((x,y),(dx,dy)) in local_visited:\n",
    "                map[visit[1]][visit[0]] = \".\"\n",
    "                return True\n",
    "            local_visited.add(((x,y),(dx,dy)))\n",
    "            x += dx\n",
    "            y += dy\n",
    "    map[visit[1]][visit[0]] = \".\"\n",
    "    return False\n",
    "\n",
    "data = open(\"guard_route.txt\", \"r\")\n",
    "\n",
    "y = 0\n",
    "x = 0\n",
    "\n",
    "map = []\n",
    "# Convert data to list and find starting point\n",
    "for ty, line in enumerate(data):\n",
    "    map_line = []\n",
    "    for tx, cell in enumerate(line):\n",
    "        map_line.append(cell)\n",
    "        if cell == \"^\":\n",
    "            x,y = tx, ty\n",
    "    map.append(map_line)\n",
    "\n",
    "dx = 0\n",
    "dy = -1\n",
    "\n",
    "visited = set()\n",
    "while 0 <= x + dx < len(map[0]) and 0 <= y + dy < len(map):\n",
    "    if map[y+dy][x+dx] == \"#\":\n",
    "        dx, dy = -dy, dx\n",
    "    else:\n",
    "        visited.add((x,y))\n",
    "        x += dx\n",
    "        y += dy\n",
    "visited.add((x, y))\n",
    "\n",
    "print(len(visited))\n",
    "\n",
    "counter = 0\n",
    "for visit in visited:\n",
    "    if visit == (42, 45):\n",
    "        continue\n",
    "    counter += check_for_infinite_loop(visit, map)\n",
    "\n",
    "counter\n"
   ],
   "outputs": [
    {
     "name": "stdout",
     "output_type": "stream",
     "text": [
      "4903\n"
     ]
    },
    {
     "data": {
      "text/plain": [
       "1911"
      ]
     },
     "execution_count": 1,
     "metadata": {},
     "output_type": "execute_result"
    }
   ],
   "execution_count": 1
  },
  {
   "metadata": {},
   "cell_type": "code",
   "outputs": [],
   "execution_count": null,
   "source": "",
   "id": "742dfda2f35f2c2f"
  }
 ],
 "metadata": {
  "kernelspec": {
   "display_name": "Python 3",
   "language": "python",
   "name": "python3"
  },
  "language_info": {
   "codemirror_mode": {
    "name": "ipython",
    "version": 2
   },
   "file_extension": ".py",
   "mimetype": "text/x-python",
   "name": "python",
   "nbconvert_exporter": "python",
   "pygments_lexer": "ipython2",
   "version": "2.7.6"
  }
 },
 "nbformat": 4,
 "nbformat_minor": 5
}
