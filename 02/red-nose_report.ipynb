{
 "cells": [
  {
   "cell_type": "code",
   "id": "initial_id",
   "metadata": {
    "collapsed": true,
    "ExecuteTime": {
     "end_time": "2024-12-02T19:00:58.075329Z",
     "start_time": "2024-12-02T19:00:58.067169Z"
    }
   },
   "source": [
    "from readline import set_completer\n",
    "\n",
    "def is_valid_problem_damper(level):\n",
    "    decrease = False\n",
    "    increase = False\n",
    "    for i in range(len(level) - 1):\n",
    "        diff = level[i + 1] - level[i]\n",
    "        if 0 < diff < 4 and not decrease:\n",
    "            increase = True\n",
    "        elif -4 < diff < 0 and not increase:\n",
    "            decrease = True\n",
    "        else:\n",
    "            first_v = level.copy()\n",
    "            del first_v[i]\n",
    "            second_v = level.copy()\n",
    "            del second_v[i+1]\n",
    "            third_v = level.copy()\n",
    "            del third_v[i-1]\n",
    "            return is_valid(first_v) or is_valid(second_v) or is_valid(third_v)\n",
    "    return True\n",
    "\n",
    "def is_valid(report):\n",
    "    decrease = False\n",
    "    increase = False\n",
    "    for i in range(len(report) - 1):\n",
    "        diff = report[i + 1] - report[i]\n",
    "        if 0 < diff < 4 and not decrease:\n",
    "            increase = True\n",
    "        elif -4 < diff < 0 and not increase:\n",
    "            decrease = True\n",
    "        else:\n",
    "            return False\n",
    "    return True\n",
    "\n",
    "data = open('unusual_data.txt', 'r')\n",
    "counter = 0\n",
    "\n",
    "for report in data:\n",
    "    levels = [int(level) for level in report.split(' ')]\n",
    "\n",
    "    if is_valid_problem_damper(levels):\n",
    "        counter += 1\n",
    "counter"
   ],
   "outputs": [
    {
     "data": {
      "text/plain": [
       "717"
      ]
     },
     "execution_count": 12,
     "metadata": {},
     "output_type": "execute_result"
    }
   ],
   "execution_count": 12
  },
  {
   "metadata": {
    "ExecuteTime": {
     "end_time": "2024-12-02T17:09:07.043321Z",
     "start_time": "2024-12-02T17:09:07.041062Z"
    }
   },
   "cell_type": "code",
   "source": "",
   "id": "ae897245358d3f2d",
   "outputs": [],
   "execution_count": null
  },
  {
   "metadata": {},
   "cell_type": "code",
   "outputs": [],
   "execution_count": null,
   "source": "",
   "id": "8da7b3e9ded954b"
  }
 ],
 "metadata": {
  "kernelspec": {
   "display_name": "Python 3",
   "language": "python",
   "name": "python3"
  },
  "language_info": {
   "codemirror_mode": {
    "name": "ipython",
    "version": 2
   },
   "file_extension": ".py",
   "mimetype": "text/x-python",
   "name": "python",
   "nbconvert_exporter": "python",
   "pygments_lexer": "ipython2",
   "version": "2.7.6"
  }
 },
 "nbformat": 4,
 "nbformat_minor": 5
}
