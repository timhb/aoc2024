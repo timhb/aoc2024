{
 "cells": [
  {
   "cell_type": "code",
   "id": "initial_id",
   "metadata": {
    "collapsed": true,
    "ExecuteTime": {
     "end_time": "2024-12-04T18:44:47.045773Z",
     "start_time": "2024-12-04T18:44:47.028373Z"
    }
   },
   "source": [
    "with open(\"word_search.txt\", \"r\") as file:\n",
    "    data = [line for line in file]\n",
    "\n",
    "counter = 0\n",
    "\n",
    "def check_for_word(i, j, data):\n",
    "    count = 0\n",
    "    # 0°\n",
    "    if j < len(data) - 3:\n",
    "        if data[i][j] + data[i][j+1] + data[i][j+2] + data[i][j+3] == \"XMAS\":\n",
    "            count += 1\n",
    "    # 180°\n",
    "    if 2 < j:\n",
    "        if data[i][j] + data[i][j-1] + data[i][j-2] + data[i][j-3] == \"XMAS\":\n",
    "            count += 1\n",
    "    # 90°\n",
    "    if i < len(data) - 3:\n",
    "        if data[i][j] + data[i+1][j] + data[i+2][j] + data[i+3][j] == \"XMAS\":\n",
    "            count += 1\n",
    "    # 270°\n",
    "    if 2 < i:\n",
    "        if data[i][j] + data[i-1][j] + data[i-2][j] + data[i-3][j] == \"XMAS\":\n",
    "            count += 1\n",
    "    #\n",
    "    if 2 < i and 2 < j:\n",
    "        if data[i][j] + data[i-1][j-1] + data[i-2][j-2] + data[i-3][j-3] == \"XMAS\":\n",
    "            count += 1\n",
    "    if 2 < i and j < len(data) - 3:\n",
    "        if data[i][j] + data[i-1][j+1] + data[i-2][j+2] + data[i-3][j+3] == \"XMAS\":\n",
    "            count += 1\n",
    "    if i < len(data) - 3 and 2 < j:\n",
    "        if data[i][j] + data[i+1][j-1] + data[i+2][j-2] + data[i+3][j-3] == \"XMAS\":\n",
    "            count += 1\n",
    "    if i < len(data) - 3 and j < len(data) - 3:\n",
    "        if data[i][j] + data[i+1][j+1] + data[i+2][j+2] + data[i+3][j+3] == \"XMAS\":\n",
    "            count += 1\n",
    "    return count\n",
    "\n",
    "for i in range(len(data)):\n",
    "    for j in range(len(data[i])):\n",
    "        if (data[i][j] == \"X\"):\n",
    "            counter += check_for_word(i, j, data)\n",
    "\n",
    "counter\n",
    "\n",
    "\n"
   ],
   "outputs": [
    {
     "data": {
      "text/plain": [
       "2554"
      ]
     },
     "execution_count": 76,
     "metadata": {},
     "output_type": "execute_result"
    }
   ],
   "execution_count": 76
  },
  {
   "metadata": {
    "ExecuteTime": {
     "end_time": "2024-12-04T18:53:05.212301Z",
     "start_time": "2024-12-04T18:53:05.204598Z"
    }
   },
   "cell_type": "code",
   "source": [
    "sec_counter = 0\n",
    "\n",
    "def check_for_x(i, j, data):\n",
    "    count = 0\n",
    "    if 0 < i < len(data) - 1 and 0 < j < len(data) - 1:\n",
    "        left_up = data[i-1][j-1]\n",
    "        left_down = data[i+1][j-1]\n",
    "        right_up = data[i-1][j+1]\n",
    "        right_down = data[i+1][j+1]\n",
    "        if left_up == \"M\" == left_down and right_down == \"S\" == right_up:\n",
    "            count += 1\n",
    "        if left_up == \"M\" == right_up and left_down == \"S\" == right_down:\n",
    "            count += 1\n",
    "        if left_up == \"S\" == left_down and right_down == \"M\" == right_up:\n",
    "            count += 1\n",
    "        if left_up == \"S\" == right_up and left_down == \"M\" == right_down:\n",
    "            count += 1\n",
    "    return count\n",
    "\n",
    "for i in range(len(data)):\n",
    "    for j in range(len(data[i])):\n",
    "        if (data[i][j] == \"A\"):\n",
    "            sec_counter += check_for_x(i, j, data)\n",
    "\n",
    "sec_counter"
   ],
   "id": "d65f09da5c9256cb",
   "outputs": [
    {
     "data": {
      "text/plain": [
       "1916"
      ]
     },
     "execution_count": 81,
     "metadata": {},
     "output_type": "execute_result"
    }
   ],
   "execution_count": 81
  },
  {
   "metadata": {
    "ExecuteTime": {
     "end_time": "2024-12-04T06:31:58.620393Z",
     "start_time": "2024-12-04T06:31:58.618299Z"
    }
   },
   "cell_type": "code",
   "source": "",
   "id": "f3a6df06860dcb14",
   "outputs": [],
   "execution_count": null
  },
  {
   "metadata": {},
   "cell_type": "code",
   "outputs": [],
   "execution_count": null,
   "source": "",
   "id": "c70381465febb526"
  }
 ],
 "metadata": {
  "kernelspec": {
   "display_name": "Python 3",
   "language": "python",
   "name": "python3"
  },
  "language_info": {
   "codemirror_mode": {
    "name": "ipython",
    "version": 2
   },
   "file_extension": ".py",
   "mimetype": "text/x-python",
   "name": "python",
   "nbconvert_exporter": "python",
   "pygments_lexer": "ipython2",
   "version": "2.7.6"
  }
 },
 "nbformat": 4,
 "nbformat_minor": 5
}
