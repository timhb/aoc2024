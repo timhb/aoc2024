{
 "cells": [
  {
   "cell_type": "code",
   "id": "initial_id",
   "metadata": {
    "collapsed": true,
    "ExecuteTime": {
     "end_time": "2024-12-14T20:11:24.556772Z",
     "start_time": "2024-12-14T20:11:24.549728Z"
    }
   },
   "source": [
    "import re\n",
    "\n",
    "def crammers_rule(prize):\n",
    "    ax, ay, bx, by, px, py = prize\n",
    "    px += 10000000000000\n",
    "    py += 10000000000000\n",
    "    main_determinant = ax * by - ay * bx\n",
    "    a_determinant = px * by - py * bx\n",
    "    b_determinant = px * ay - py * ax\n",
    "\n",
    "    a = abs(a_determinant / main_determinant)\n",
    "    b = abs(b_determinant / main_determinant)\n",
    "    if a.is_integer() and b.is_integer():\n",
    "        return 3 * a + b\n",
    "    return 0\n",
    "# Part 2: This is way to slow, first instinct: two-pointer problem\n",
    "def get_tokens(prize):\n",
    "    ax, ay, bx, by, px, py = prize\n",
    "    possible_combinations = []\n",
    "    for a in range(100):\n",
    "        for b in range(100):\n",
    "            if (a * ax + b * bx, a * ay + b * by) == (px, py):\n",
    "                possible_combinations.append(a * 3 + b)\n",
    "    if possible_combinations:\n",
    "        return min(possible_combinations)\n",
    "    return 0\n",
    "\n",
    "def main():\n",
    "    # Load data in list containing 6 values (ax, ay, bx, by, px, py)\n",
    "    with open(\"prizes.txt\", \"r\") as f:\n",
    "        file = f.read()\n",
    "        pattern = r\"Button A: X\\+(\\d+), Y\\+(\\d+)\\s+Button B: X\\+(\\d+), Y\\+(\\d+)\\s+Prize: X=(\\d+), Y=(\\d+)\"\n",
    "        matches = re.findall(pattern, file)\n",
    "        prizes = []\n",
    "        for match in matches:\n",
    "            ax, ay, bx,by, px, py = map(int, match)\n",
    "            prizes.append([ax, ay,bx,by,px,py])\n",
    "\n",
    "    # Get the shortest possible combinations\n",
    "    tokens = 0\n",
    "    for prize in prizes:\n",
    "        #tokens += get_tokens(prize)\n",
    "        tokens += crammers_rule(prize)\n",
    "\n",
    "    print(tokens)\n",
    "    return\n",
    "if __name__ == \"__main__\":\n",
    "    main()"
   ],
   "outputs": [
    {
     "name": "stdout",
     "output_type": "stream",
     "text": [
      "101726882250942.0\n"
     ]
    }
   ],
   "execution_count": 26
  },
  {
   "metadata": {},
   "cell_type": "code",
   "outputs": [],
   "execution_count": null,
   "source": "",
   "id": "cc3dac0359562337"
  }
 ],
 "metadata": {
  "kernelspec": {
   "display_name": "Python 3",
   "language": "python",
   "name": "python3"
  },
  "language_info": {
   "codemirror_mode": {
    "name": "ipython",
    "version": 2
   },
   "file_extension": ".py",
   "mimetype": "text/x-python",
   "name": "python",
   "nbconvert_exporter": "python",
   "pygments_lexer": "ipython2",
   "version": "2.7.6"
  }
 },
 "nbformat": 4,
 "nbformat_minor": 5
}
