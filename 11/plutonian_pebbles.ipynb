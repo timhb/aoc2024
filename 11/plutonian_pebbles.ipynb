{
 "cells": [
  {
   "cell_type": "code",
   "id": "initial_id",
   "metadata": {
    "collapsed": true,
    "ExecuteTime": {
     "end_time": "2024-12-11T08:54:27.983324Z",
     "start_time": "2024-12-11T08:54:27.742184Z"
    }
   },
   "source": [
    "from functools import cache\n",
    "\n",
    "\n",
    "def process_stone(stone):\n",
    "    if stone == 0:\n",
    "        return [1]\n",
    "    elif len(str(stone)) % 2 == 0:\n",
    "        return [(int(str(stone)[len(str(stone))//2:])), (int(str(stone)[:len(str(stone))//2]))]\n",
    "    else:\n",
    "        return [stone*2024]\n",
    "\n",
    "@cache\n",
    "def parallel_calc(stone, step):\n",
    "    next_step = process_stone(stone)\n",
    "    if step == 1:\n",
    "        return len(next_step)\n",
    "    else:\n",
    "        return sum(parallel_calc(stone, step-1) for stone in next_step)\n",
    "\n",
    "def main():\n",
    "    with open(\"stones.txt\",\"r\") as file:\n",
    "        stones = [int(datum) for line in file for datum in line.split()]\n",
    "\n",
    "    print(sum(parallel_calc(stone, 75) for stone in stones))\n",
    "\n",
    "if __name__ == \"__main__\":\n",
    "    main()"
   ],
   "outputs": [
    {
     "name": "stdout",
     "output_type": "stream",
     "text": [
      "223767210249237\n"
     ]
    }
   ],
   "execution_count": 51
  },
  {
   "metadata": {},
   "cell_type": "code",
   "outputs": [],
   "execution_count": null,
   "source": "",
   "id": "85f7ed001a4ed482"
  }
 ],
 "metadata": {
  "kernelspec": {
   "display_name": "Python 3",
   "language": "python",
   "name": "python3"
  },
  "language_info": {
   "codemirror_mode": {
    "name": "ipython",
    "version": 2
   },
   "file_extension": ".py",
   "mimetype": "text/x-python",
   "name": "python",
   "nbconvert_exporter": "python",
   "pygments_lexer": "ipython2",
   "version": "2.7.6"
  }
 },
 "nbformat": 4,
 "nbformat_minor": 5
}
