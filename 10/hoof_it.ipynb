{
 "cells": [
  {
   "cell_type": "code",
   "id": "initial_id",
   "metadata": {
    "collapsed": true,
    "ExecuteTime": {
     "end_time": "2024-12-10T09:56:38.184928Z",
     "start_time": "2024-12-10T09:56:38.171871Z"
    }
   },
   "source": [
    "data = []\n",
    "with open(\"topographic_map.txt\", \"r\") as file:\n",
    "    for line in file:\n",
    "        digits = [int(char) for char in line.strip() if char.isdigit()]\n",
    "        data.append(digits)\n",
    "\n",
    "def valid_neighbors(pos, map):\n",
    "    dx, dy = -1, 0\n",
    "    valid_neighbor = []\n",
    "    for _ in range(4):\n",
    "        if 0 <= pos[1] +dy < len(map) and 0 <= pos[0] +dx < len(map[0]) and map[pos[1]][pos[0]] + 1 == map[pos[1]+dy][pos[0]+dx]:\n",
    "            valid_neighbor.append((pos[0]+dx,pos[1]+dy))\n",
    "        dx, dy = -dy, dx\n",
    "    return valid_neighbor\n",
    "\n",
    "score = 0\n",
    "for y, line in enumerate(data):\n",
    "    for x, cell in enumerate(line):\n",
    "        if cell == 0:\n",
    "            trails = [(x, y)]\n",
    "            hits = set()\n",
    "            while len(trails):\n",
    "                current = trails.pop(0)\n",
    "                neighbors = valid_neighbors(current, data)\n",
    "                for neighbor in neighbors:\n",
    "                    if data[neighbor[1]][neighbor[0]] == 9:\n",
    "                        #hits.add(neighbor)\n",
    "                        score += 1\n",
    "                    else:\n",
    "                        trails.append(neighbor)\n",
    "            #score += len(hits)\n",
    "score"
   ],
   "outputs": [
    {
     "data": {
      "text/plain": [
       "1255"
      ]
     },
     "execution_count": 29,
     "metadata": {},
     "output_type": "execute_result"
    }
   ],
   "execution_count": 29
  },
  {
   "metadata": {
    "jupyter": {
     "is_executing": true
    }
   },
   "cell_type": "code",
   "source": "",
   "id": "70f4c116b2ebe43b",
   "outputs": [],
   "execution_count": null
  },
  {
   "metadata": {},
   "cell_type": "code",
   "outputs": [],
   "execution_count": null,
   "source": "",
   "id": "e76d6beee8f407c0"
  }
 ],
 "metadata": {
  "kernelspec": {
   "display_name": "Python 3",
   "language": "python",
   "name": "python3"
  },
  "language_info": {
   "codemirror_mode": {
    "name": "ipython",
    "version": 2
   },
   "file_extension": ".py",
   "mimetype": "text/x-python",
   "name": "python",
   "nbconvert_exporter": "python",
   "pygments_lexer": "ipython2",
   "version": "2.7.6"
  }
 },
 "nbformat": 4,
 "nbformat_minor": 5
}
